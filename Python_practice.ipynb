{
  "cells": [
    {
      "cell_type": "code",
      "execution_count": null,
      "metadata": {
        "id": "FKrXvtZixHQP"
      },
      "outputs": [],
      "source": [
        "#print work as console.log"
      ]
    },
    {
      "cell_type": "code",
      "execution_count": null,
      "metadata": {
        "colab": {
          "base_uri": "https://localhost:8080/"
        },
        "id": "2qgaIXdVxRLz",
        "outputId": "d5d33bbb-81e3-44a6-a227-de7a7f81de1f"
      },
      "outputs": [
        {
          "name": "stdout",
          "output_type": "stream",
          "text": [
            "Hello world\n"
          ]
        }
      ],
      "source": [
        "print(\"Hello world\")"
      ]
    },
    {
      "cell_type": "code",
      "execution_count": null,
      "metadata": {
        "colab": {
          "base_uri": "https://localhost:8080/"
        },
        "id": "IxpohleVzXhP",
        "outputId": "25073162-2882-49fd-a14e-f7b6b73cc5e2"
      },
      "outputs": [
        {
          "name": "stdout",
          "output_type": "stream",
          "text": [
            "Kainat\n",
            "Drsaleem\n"
          ]
        }
      ],
      "source": [
        "# variables\n",
        "# we can use Single quote,double quote,triple quote\n",
        "UserName='Kainat'\n",
        "# variables\n",
        "#Single quote,double quote,triple quote\n",
        "UserName='Kainat'\n",
        "print(UserName)\n",
        "#Double quote\n",
        "ClientName=\"Drsaleem\"\n",
        "print (ClientName)\n",
        "#triple quote\n",
        "Introduction=\"\"\"My name is kainat and my father name is Dr saleem \"\"\""
      ]
    },
    {
      "cell_type": "code",
      "execution_count": null,
      "metadata": {
        "colab": {
          "base_uri": "https://localhost:8080/"
        },
        "id": "uEpLl3ex6vT5",
        "outputId": "f7bf3c18-eaf3-4d3c-e122-d814080830d9"
      },
      "outputs": [
        {
          "name": "stdout",
          "output_type": "stream",
          "text": [
            "your name is : Haseeb Haroon\n",
            "your age is: 19\n"
          ]
        }
      ],
      "source": [
        "\n",
        "#use of string formatting\n",
        "name = \"Haseeb Haroon\"\n",
        "age = 19\n",
        "print(f\"your name is : {name}\\nyour age is: {age}\")"
      ]
    },
    {
      "cell_type": "code",
      "execution_count": null,
      "metadata": {
        "colab": {
          "base_uri": "https://localhost:8080/"
        },
        "id": "iWCmm6CO82D0",
        "outputId": "6f11a22c-f31e-4ac4-92f8-1672b3eaafaf"
      },
      "outputs": [
        {
          "name": "stdout",
          "output_type": "stream",
          "text": [
            "50\n",
            "Haseeb Haroon Haseeb Haroon Haseeb Haroon Haseeb Haroon Haseeb Haroon Haseeb Haroon Haseeb Haroon Haseeb Haroon Haseeb Haroon Haseeb Haroon \n",
            "Haseeb Haroon\n",
            "14\n"
          ]
        }
      ],
      "source": [
        "#*,+use case\n",
        "print(5*10)\n",
        "print(\"Haseeb Haroon \" *10) # print 10 time\n",
        "print(\"Haseeb \" + \"Haroon\") #concatenate\n",
        "print(7+7)"
      ]
    },
    {
      "cell_type": "code",
      "execution_count": null,
      "metadata": {
        "colab": {
          "background_save": true
        },
        "id": "RFWCneQx-xOV",
        "outputId": "4cd081ca-2be3-4347-bc07-7bdd63e1ff2f"
      },
      "outputs": [
        {
          "name": "stdout",
          "output_type": "stream",
          "text": [
            "good evening Kainat \n"
          ]
        }
      ],
      "source": [
        "#user input\n",
        "name = input(\"Enter your name: \")\n",
        "print(f\"good evening {name}\")"
      ]
    },
    {
      "cell_type": "code",
      "source": [
        "\n",
        "#Operators\n",
        "print(7<8)\n",
        "print(7>8)\n",
        "print(7==8)\n",
        "print(7!=8)\n",
        "print(7>=8)\n",
        "print(7<=8)\n",
        "\n",
        "print(9+8,50-5)\n",
        "print(8/4)"
      ],
      "metadata": {
        "id": "IlYqGCrjAzVL",
        "outputId": "990c983c-e9f1-4911-9476-5adc28235a8b",
        "colab": {
          "base_uri": "https://localhost:8080/"
        }
      },
      "execution_count": null,
      "outputs": [
        {
          "output_type": "stream",
          "name": "stdout",
          "text": [
            "True\n",
            "False\n",
            "False\n",
            "True\n",
            "False\n",
            "True\n",
            "17 45\n",
            "2.0\n"
          ]
        }
      ]
    },
    {
      "cell_type": "code",
      "source": [
        "#conditions\n",
        "age = float(input(\"Enter your age....\"))\n",
        "if age>=18:\n",
        "  print(\"You can vote\")\n",
        "else:\n",
        "  print(\"You can not vote\")"
      ],
      "metadata": {
        "colab": {
          "base_uri": "https://localhost:8080/"
        },
        "id": "B0MNTFIJCPvd",
        "outputId": "e00fa9ff-6153-4214-e4a3-62aa3800ee17"
      },
      "execution_count": null,
      "outputs": [
        {
          "output_type": "stream",
          "name": "stdout",
          "text": [
            "Enter your age....21\n",
            "You can vote\n"
          ]
        }
      ]
    }
  ],
  "metadata": {
    "colab": {
      "provenance": []
    },
    "kernelspec": {
      "display_name": "Python 3",
      "name": "python3"
    },
    "language_info": {
      "name": "python"
    }
  },
  "nbformat": 4,
  "nbformat_minor": 0
}